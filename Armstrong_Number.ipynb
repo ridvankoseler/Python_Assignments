{
 "cells": [
  {
   "cell_type": "code",
   "execution_count": null,
   "metadata": {},
   "outputs": [],
   "source": [
    "number = input(\"Please enter a number: \")\n",
    "n = len(number)\n",
    "total = 0\n",
    "if (number.find(\".\")== -1) and (number.find(\"-\") == -1) and number.isnumeric():\n",
    "    for i in number:\n",
    "        total = total + int(i)**n\n",
    "    if total == int(number):\n",
    "        print(f\"{number} is an Amstrong Number\")\n",
    "    else:\n",
    "        print(f\"{number} is not an Amstrong Number\")\n",
    "else:\n",
    "    print(\"It is an invalid entry. Don't use non-numeric, float, or negative values!\")"
   ]
  }
 ],
 "metadata": {
  "language_info": {
   "name": "python"
  },
  "orig_nbformat": 4
 },
 "nbformat": 4,
 "nbformat_minor": 2
}
