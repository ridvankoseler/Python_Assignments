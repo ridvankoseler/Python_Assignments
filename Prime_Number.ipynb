{
 "cells": [
  {
   "cell_type": "code",
   "execution_count": null,
   "metadata": {},
   "outputs": [],
   "source": [
    "n = int(input ('Lütfen bir sayı giriniz... : '))\n",
    "counter = 0\n",
    "for i in range(1,n+1) :\n",
    "    if n % i == 0 :\n",
    "        counter += 1\n",
    "\n",
    "if (n == 0) or (n == 1) or (counter >=3) :\n",
    "    print(n, 'is not a prime number.')\n",
    "else:\n",
    "    print(n, 'is a Prime Number.')"
   ]
  }
 ],
 "metadata": {
  "language_info": {
   "name": "python"
  },
  "orig_nbformat": 4
 },
 "nbformat": 4,
 "nbformat_minor": 2
}
