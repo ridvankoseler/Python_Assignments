n = int(input("Lütfen fibbonaci için bir sayı giriniz. : "))

fibo = [1,1]

for i in  range(n) :
    fibo.append(fibo[i] + fibo[i+1])
print(fibo)
